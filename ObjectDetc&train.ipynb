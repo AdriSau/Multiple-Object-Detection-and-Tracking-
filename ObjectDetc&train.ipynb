{
  "nbformat": 4,
  "nbformat_minor": 0,
  "metadata": {
    "colab": {
      "provenance": []
    },
    "kernelspec": {
      "name": "python3",
      "display_name": "Python 3"
    },
    "language_info": {
      "name": "python"
    }
  },
  "cells": [
    {
      "cell_type": "markdown",
      "source": [
        "# Basics\n"
      ],
      "metadata": {
        "id": "Qh1fXuB8zJVi"
      }
    },
    {
      "cell_type": "code",
      "source": [],
      "metadata": {
        "id": "zcqPpk7DzOas"
      },
      "execution_count": null,
      "outputs": []
    }
  ]
}