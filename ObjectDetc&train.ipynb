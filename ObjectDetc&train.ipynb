{
  "nbformat": 4,
  "nbformat_minor": 0,
  "metadata": {
    "colab": {
      "provenance": [],
      "authorship_tag": "ABX9TyMBxZx6RA4epxKppRyOH8PG",
      "include_colab_link": true
    },
    "kernelspec": {
      "name": "python3",
      "display_name": "Python 3"
    },
    "language_info": {
      "name": "python"
    }
  },
  "cells": [
    {
      "cell_type": "markdown",
      "metadata": {
        "id": "view-in-github",
        "colab_type": "text"
      },
      "source": [
        "<a href=\"https://colab.research.google.com/github/AdriSau/Multiple-Object-Detection-and-Tracking-/blob/main/ObjectDetc%26train.ipynb\" target=\"_parent\"><img src=\"https://colab.research.google.com/assets/colab-badge.svg\" alt=\"Open In Colab\"/></a>"
      ]
    },
    {
      "cell_type": "markdown",
      "source": [],
      "metadata": {
        "id": "R0C5SZPD0SBv"
      }
    },
    {
      "cell_type": "markdown",
      "source": [
        "# Basics\n"
      ],
      "metadata": {
        "id": "Qh1fXuB8zJVi"
      }
    },
    {
      "cell_type": "code",
      "source": [
        "!pip install ultralytics==8.0.20\n",
        "from IPython import display\n",
        "display.clear_output()\n",
        "import ultralytics\n",
        "import os\n",
        "HOME = os.getcwd()\n",
        "print(HOME)\n",
        "ultralytics.checks()\n",
        "from ultralytics import YOLO\n",
        "from IPython.display import display, Image"
      ],
      "metadata": {
        "colab": {
          "base_uri": "https://localhost:8080/"
        },
        "id": "zcqPpk7DzOas",
        "outputId": "52d263ba-3a3e-4baa-d0ea-e45f223c8d3c"
      },
      "execution_count": 9,
      "outputs": [
        {
          "output_type": "stream",
          "name": "stdout",
          "text": [
            "Ultralytics YOLOv8.0.227 🚀 Python-3.10.12 torch-2.1.0+cu118 CPU (Intel Xeon 2.20GHz)\n",
            "Setup complete ✅ (2 CPUs, 12.7 GB RAM, 27.0/107.7 GB disk)\n"
          ]
        }
      ]
    },
    {
      "cell_type": "code",
      "source": [
        "\n",
        "!yolo task=detect mode=train model=yolov8s.pt data='https://github.com/AdriSau/Multiple-Object-Detection-and-Tracking-/blob/53b0be7aad874f507ee662fa3972f4e4dccaba75/Sources/data.yaml' epochs=25 imgsz=800 plots=True\n",
        "!yolo task=detect mode=predict model=yolov8n.pt conf=0.25 source='https://github.com/AdriSau/Multiple-Object-Detection-and-Tracking-/blob/53b0be7aad874f507ee662fa3972f4e4dccaba75/Sources/test/images/614_jpg.rf.a0680468910d10932ce51af7a152b77d.jpg' save=True"
      ],
      "metadata": {
        "id": "3F6Ea3-f1PBk",
        "outputId": "b121fd6b-d1f5-431d-bef1-9a2801c09f1e",
        "colab": {
          "base_uri": "https://localhost:8080/"
        }
      },
      "execution_count": 12,
      "outputs": [
        {
          "output_type": "stream",
          "name": "stdout",
          "text": [
            "Downloading https://github.com/ultralytics/assets/releases/download/v0.0.0/yolov8s.pt to yolov8s.pt...\n",
            "100% 21.5M/21.5M [00:00<00:00, 126MB/s] \n",
            "\n",
            "Ultralytics YOLOv8.0.20 🚀 Python-3.10.12 torch-2.1.0+cu118 CPU\n",
            "\u001b[34m\u001b[1myolo/engine/trainer: \u001b[0mtask=detect, mode=train, model=yolov8s.yaml, data=https://github.com/AdriSau/Multiple-Object-Detection-and-Tracking-/blob/53b0be7aad874f507ee662fa3972f4e4dccaba75/Sources/data.yaml, epochs=25, patience=50, batch=16, imgsz=800, save=True, cache=False, device=, workers=8, project=None, name=None, exist_ok=False, pretrained=False, optimizer=SGD, verbose=True, seed=0, deterministic=True, single_cls=False, image_weights=False, rect=False, cos_lr=False, close_mosaic=10, resume=False, overlap_mask=True, mask_ratio=4, dropout=False, val=True, save_json=False, save_hybrid=False, conf=0.001, iou=0.7, max_det=300, half=False, dnn=False, plots=True, source=ultralytics/assets/, show=False, save_txt=False, save_conf=False, save_crop=False, hide_labels=False, hide_conf=False, vid_stride=1, line_thickness=3, visualize=False, augment=False, agnostic_nms=False, classes=None, retina_masks=False, boxes=True, format=torchscript, keras=False, optimize=False, int8=False, dynamic=False, simplify=False, opset=17, workspace=4, nms=False, lr0=0.01, lrf=0.01, momentum=0.937, weight_decay=0.001, warmup_epochs=3.0, warmup_momentum=0.8, warmup_bias_lr=0.1, box=7.5, cls=0.5, dfl=1.5, fl_gamma=0.0, label_smoothing=0.0, nbs=64, hsv_h=0.015, hsv_s=0.7, hsv_v=0.4, degrees=0.0, translate=0.1, scale=0.5, shear=0.0, perspective=0.0, flipud=0.0, fliplr=0.5, mosaic=1.0, mixup=0.0, copy_paste=0.0, cfg=None, v5loader=False, save_dir=runs/detect/train6\n",
            "Found https://github.com/AdriSau/Multiple-Object-Detection-and-Tracking-/blob/53b0be7aad874f507ee662fa3972f4e4dccaba75/Sources/data.yaml locally at data.yaml\n",
            "Traceback (most recent call last):\n",
            "  File \"/usr/local/bin/yolo\", line 8, in <module>\n",
            "    sys.exit(entrypoint())\n",
            "  File \"/usr/local/lib/python3.10/dist-packages/ultralytics/yolo/cfg/__init__.py\", line 249, in entrypoint\n",
            "    getattr(model, mode)(verbose=True, **overrides)\n",
            "  File \"/usr/local/lib/python3.10/dist-packages/ultralytics/yolo/engine/model.py\", line 203, in train\n",
            "    self.trainer = self.TrainerClass(overrides=overrides)\n",
            "  File \"/usr/local/lib/python3.10/dist-packages/ultralytics/yolo/engine/trainer.py\", line 122, in __init__\n",
            "    self.data = check_det_dataset(self.data)\n",
            "  File \"/usr/local/lib/python3.10/dist-packages/ultralytics/yolo/data/utils.py\", line 201, in check_det_dataset\n",
            "    data = yaml_load(data, append_filename=True)  # dictionary\n",
            "  File \"/usr/local/lib/python3.10/dist-packages/ultralytics/yolo/utils/__init__.py\", line 430, in yaml_load\n",
            "    return {**yaml.safe_load(f), 'yaml_file': str(file)} if append_filename else yaml.safe_load(f)\n",
            "  File \"/usr/local/lib/python3.10/dist-packages/yaml/__init__.py\", line 125, in safe_load\n",
            "    return load(stream, SafeLoader)\n",
            "  File \"/usr/local/lib/python3.10/dist-packages/yaml/__init__.py\", line 81, in load\n",
            "    return loader.get_single_data()\n",
            "  File \"/usr/local/lib/python3.10/dist-packages/yaml/constructor.py\", line 49, in get_single_data\n",
            "    node = self.get_single_node()\n",
            "  File \"/usr/local/lib/python3.10/dist-packages/yaml/composer.py\", line 36, in get_single_node\n",
            "    document = self.compose_document()\n",
            "  File \"/usr/local/lib/python3.10/dist-packages/yaml/composer.py\", line 58, in compose_document\n",
            "    self.get_event()\n",
            "  File \"/usr/local/lib/python3.10/dist-packages/yaml/parser.py\", line 118, in get_event\n",
            "    self.current_event = self.state()\n",
            "  File \"/usr/local/lib/python3.10/dist-packages/yaml/parser.py\", line 193, in parse_document_end\n",
            "    token = self.peek_token()\n",
            "  File \"/usr/local/lib/python3.10/dist-packages/yaml/scanner.py\", line 129, in peek_token\n",
            "    self.fetch_more_tokens()\n",
            "  File \"/usr/local/lib/python3.10/dist-packages/yaml/scanner.py\", line 223, in fetch_more_tokens\n",
            "    return self.fetch_value()\n",
            "  File \"/usr/local/lib/python3.10/dist-packages/yaml/scanner.py\", line 577, in fetch_value\n",
            "    raise ScannerError(None, None,\n",
            "yaml.scanner.ScannerError: mapping values are not allowed here\n",
            "  in \"data.yaml\", line 198, column 75\n",
            "Sentry is attempting to send 2 pending events\n",
            "Waiting up to 2 seconds\n",
            "Press Ctrl-C to quit\n",
            "Downloading https://github.com/ultralytics/assets/releases/download/v0.0.0/yolov8n.pt to yolov8n.pt...\n",
            "100% 6.23M/6.23M [00:00<00:00, 81.1MB/s]\n",
            "\n",
            "2023-12-14 16:09:52.869729: E tensorflow/compiler/xla/stream_executor/cuda/cuda_dnn.cc:9342] Unable to register cuDNN factory: Attempting to register factory for plugin cuDNN when one has already been registered\n",
            "2023-12-14 16:09:52.869799: E tensorflow/compiler/xla/stream_executor/cuda/cuda_fft.cc:609] Unable to register cuFFT factory: Attempting to register factory for plugin cuFFT when one has already been registered\n",
            "2023-12-14 16:09:52.869847: E tensorflow/compiler/xla/stream_executor/cuda/cuda_blas.cc:1518] Unable to register cuBLAS factory: Attempting to register factory for plugin cuBLAS when one has already been registered\n",
            "Ultralytics YOLOv8.0.20 🚀 Python-3.10.12 torch-2.1.0+cu118 CPU\n",
            "YOLOv8n summary (fused): 168 layers, 3151904 parameters, 0 gradients, 8.7 GFLOPs\n",
            "Downloading https://github.com/AdriSau/Multiple-Object-Detection-and-Tracking-/blob/53b0be7aad874f507ee662fa3972f4e4dccaba75/Sources/test/images/614_jpg.rf.a0680468910d10932ce51af7a152b77d.jpg to 614_jpg.rf.a0680468910d10932ce51af7a152b77d.jpg...\n",
            "134kB [00:00, 1.80MB/s]\n",
            "Traceback (most recent call last):\n",
            "  File \"/usr/local/bin/yolo\", line 8, in <module>\n",
            "    sys.exit(entrypoint())\n",
            "  File \"/usr/local/lib/python3.10/dist-packages/ultralytics/yolo/cfg/__init__.py\", line 249, in entrypoint\n",
            "    getattr(model, mode)(verbose=True, **overrides)\n",
            "  File \"/usr/local/lib/python3.10/dist-packages/torch/utils/_contextlib.py\", line 115, in decorate_context\n",
            "    return func(*args, **kwargs)\n",
            "  File \"/usr/local/lib/python3.10/dist-packages/ultralytics/yolo/engine/model.py\", line 146, in predict\n",
            "    return self.predictor(source=source, stream=stream, verbose=verbose)\n",
            "  File \"/usr/local/lib/python3.10/dist-packages/torch/utils/_contextlib.py\", line 115, in decorate_context\n",
            "    return func(*args, **kwargs)\n",
            "  File \"/usr/local/lib/python3.10/dist-packages/ultralytics/yolo/engine/predictor.py\", line 158, in __call__\n",
            "    return list(self.stream_inference(source, model, verbose))  # merge list of Result into one\n",
            "  File \"/usr/local/lib/python3.10/dist-packages/ultralytics/yolo/engine/predictor.py\", line 183, in stream_inference\n",
            "    for batch in self.dataset:\n",
            "  File \"/usr/local/lib/python3.10/dist-packages/ultralytics/yolo/data/dataloaders/stream_loaders.py\", line 226, in __next__\n",
            "    assert im0 is not None, f'Image Not Found {path}'\n",
            "AssertionError: Image Not Found /content/614_jpg.rf.a0680468910d10932ce51af7a152b77d.jpg\n",
            "Sentry is attempting to send 2 pending events\n",
            "Waiting up to 2 seconds\n",
            "Press Ctrl-C to quit\n"
          ]
        }
      ]
    },
    {
      "cell_type": "code",
      "source": [],
      "metadata": {
        "id": "Z0gubETsAUWw"
      },
      "execution_count": null,
      "outputs": []
    }
  ]
}